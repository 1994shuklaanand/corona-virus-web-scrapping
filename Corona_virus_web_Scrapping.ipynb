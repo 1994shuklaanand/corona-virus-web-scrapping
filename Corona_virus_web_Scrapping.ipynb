{
  "cells": [
    {
      "cell_type": "markdown",
      "metadata": {
        "id": "view-in-github",
        "colab_type": "text"
      },
      "source": [
        "<a href=\"https://colab.research.google.com/github/1994shuklaanand/corona-virus-web-scrapping/blob/main/Corona_virus_web_Scrapping.ipynb\" target=\"_parent\"><img src=\"https://colab.research.google.com/assets/colab-badge.svg\" alt=\"Open In Colab\"/></a>"
      ]
    },
    {
      "cell_type": "code",
      "source": [
        "import requests\n",
        "from bs4 import BeautifulSoup\n",
        "import matplotlib.pyplot as plt"
      ],
      "metadata": {
        "id": "G4E2wJYy-iPF"
      },
      "execution_count": null,
      "outputs": []
    },
    {
      "cell_type": "code",
      "source": [
        "# Website 1\n",
        "url1 = 'https://www.mohfw.gov.in/'  # Replace with the actual URL\n",
        "r = requests.get(url1)\n",
        "soup1 = BeautifulSoup(r.content, 'html.parser')"
      ],
      "metadata": {
        "id": "4bUgg27g-qFl"
      },
      "execution_count": null,
      "outputs": []
    },
    {
      "cell_type": "code",
      "source": [
        "# Scrape data from Website 1\n",
        "# Extract relevant information using BeautifulSoup\n",
        "# Populate lists with state-wise data"
      ],
      "metadata": {
        "id": "ax32u9MyCd35"
      },
      "execution_count": null,
      "outputs": []
    },
    {
      "cell_type": "code",
      "source": [
        "# Website 2\n",
        "url2 = 'https://www.ndtv.com' # Replace with the actual URL\n",
        "response2 = requests.get(url2)\n",
        "soup2 = BeautifulSoup(response2.content, 'html.parser')"
      ],
      "metadata": {
        "id": "QFCOOi5eCnj9"
      },
      "execution_count": null,
      "outputs": []
    },
    {
      "cell_type": "code",
      "source": [
        "# Scrape data from Website 2\n",
        "# Extract relevant information using BeautifulSoup\n",
        "# Populate lists with state-wise data"
      ],
      "metadata": {
        "id": "9cP7mJG1DkyP"
      },
      "execution_count": null,
      "outputs": []
    },
    {
      "cell_type": "code",
      "source": [
        "# Website 3\n",
        "url3 = 'https://www.indiatoday.in/'  # Replace with the actual URL\n",
        "response3 = requests.get(url3)\n",
        "soup3 = BeautifulSoup(response3.content, 'html.parser')"
      ],
      "metadata": {
        "id": "EE_w6gOPDmO3"
      },
      "execution_count": null,
      "outputs": []
    },
    {
      "cell_type": "code",
      "source": [
        "# Scrape data from Website 3\n",
        "# Extract relevant information using BeautifulSoup\n",
        "# Populate lists with state-wise data"
      ],
      "metadata": {
        "id": "l4FCVQsRFxkF"
      },
      "execution_count": null,
      "outputs": []
    },
    {
      "cell_type": "code",
      "source": [
        "states = []\n",
        "active_cases = []\n",
        "recovered = []\n",
        "deaths = []"
      ],
      "metadata": {
        "id": "2MrPPDv6GyZE"
      },
      "execution_count": null,
      "outputs": []
    },
    {
      "cell_type": "code",
      "source": [
        "# Create a bar chart to represent the active cases by state\n",
        "plt.figure(figsize=(12, 6))\n",
        "plt.bar(states, active_cases)\n",
        "plt.xlabel('States')\n",
        "plt.ylabel('Active Cases')\n",
        "plt.title('COVID-19 Active Cases by State in India')\n",
        "plt.xticks(rotation=90)\n",
        "plt.tight_layout()\n",
        "plt.show()"
      ],
      "metadata": {
        "id": "YUN0PyCPFy_I",
        "outputId": "8a302707-dd66-4eae-d2da-3c20708f481d",
        "colab": {
          "base_uri": "https://localhost:8080/",
          "height": 607
        }
      },
      "execution_count": null,
      "outputs": [
        {
          "output_type": "display_data",
          "data": {
            "text/plain": [
              "<Figure size 1200x600 with 1 Axes>"
            ],
            "image/png": "[encoded data removed]"
          },
          "metadata": {}
        }
      ]
    }
  ],
  "metadata": {
    "colab": {
      "provenance": [],
      "include_colab_link": true
    },
    "kernelspec": {
      "display_name": "Python 3",
      "name": "python3"
    }
  },
  "nbformat": 4,
  "nbformat_minor": 0
}